{
 "cells": [
  {
   "cell_type": "code",
   "execution_count": 5,
   "metadata": {
    "collapsed": true
   },
   "outputs": [],
   "source": [
    "from PIL import Image\n",
    "\n",
    "import numpy as np\n",
    "import random\n",
    "import imageio\n",
    "import glob"
   ]
  },
  {
   "cell_type": "code",
   "execution_count": 9,
   "metadata": {
    "collapsed": true
   },
   "outputs": [],
   "source": [
    "img = Image.open(\"scenery_1.jpg\")\n",
    "#img.show()"
   ]
  },
  {
   "cell_type": "code",
   "execution_count": 10,
   "metadata": {},
   "outputs": [],
   "source": [
    "width, height = img.size\n",
    "#img.size"
   ]
  },
  {
   "cell_type": "code",
   "execution_count": 18,
   "metadata": {},
   "outputs": [],
   "source": [
    "img_arr = np.asarray(img)\n",
    "#print(img_arr)\n",
    "\n",
    "a = np.array(img_arr)\n",
    "r = a[:,:,0]\n",
    "#r\n",
    "g = a[:,:,1]\n",
    "#g\n",
    "b = a[:,:,2]\n",
    "#b"
   ]
  },
  {
   "cell_type": "code",
   "execution_count": 20,
   "metadata": {},
   "outputs": [],
   "source": [
    "prob = 0.5\n",
    "\n",
    "max_limit = 500\n",
    "limit = 1\n",
    "\n",
    "while limit < max_limit:\n",
    "    \n",
    "    limit = limit + 1\n",
    "    \n",
    "    for i in range(0, height):\n",
    "        for j in range(0, width):\n",
    "            \n",
    "            rand = random.uniform(0.0, 1.0)\n",
    "            \n",
    "            #alter pixel if random value less than probability\n",
    "            if rand < prob:\n",
    "                \n",
    "                dir = random.randint(1, 5)\n",
    "                \n",
    "                #east\n",
    "                if dir == 1:\n",
    "                    if j < width-1:\n",
    "                        r[i, j] = r[i, j+1]\n",
    "                        g[i, j] = g[i, j+1]\n",
    "                        b[i, j] = b[i, j+1]\n",
    "                \n",
    "                #west\n",
    "                if dir == 2:\n",
    "                    if j > 0:\n",
    "                        r[i, j] = r[i, j-1]\n",
    "                        g[i, j] = g[i, j-1]\n",
    "                        b[i, j] = b[i, j-1]\n",
    "                        \n",
    "                #north\n",
    "                if dir == 3:\n",
    "                    if i > 0:\n",
    "                        r[i, j] = r[i-1, j]\n",
    "                        g[i, j] = g[i-1, j]\n",
    "                        b[i, j] = b[i-1, j]\n",
    "                        \n",
    "                #south\n",
    "                if dir == 4:\n",
    "                    if i < height-1:\n",
    "                        r[i, j] = r[i+1, j]\n",
    "                        g[i, j] = g[i+1, j]\n",
    "                        b[i, j] = b[i+1, j]\n",
    "                    \n",
    "    if limit % 10 == 0:\n",
    "        a[:,:,0] = r\n",
    "        a[:,:,1] = g\n",
    "        a[:,:,2] = b\n",
    "        im_temp = Image.fromarray(a)\n",
    "        im_temp.save('images_sc_1/sc_1.{}.png'.format(limit))"
   ]
  },
  {
   "cell_type": "code",
   "execution_count": 21,
   "metadata": {
    "collapsed": true
   },
   "outputs": [],
   "source": [
    "files = glob.glob('images_sc_1/*.png')\n",
    "#files\n",
    "\n",
    "sorted_files = sorted(files, key=lambda x: int(x.split('.')[1]))\n",
    "#sorted_files\n",
    "\n",
    "\n",
    "images = []\n",
    "for file in sorted_files:\n",
    "    # imageio.imread(file) creates a numpy matrix array\n",
    "    images.append(imageio.imread(file))\n",
    "    #print file\n",
    "\n",
    "desc_files = sorted(files, key=lambda x: int(x.split('.')[1]), reverse=True)\n",
    "#desc_files\n",
    "\n",
    "for file in desc_files:\n",
    "    # imageio.imread(file) creates a numpy matrix array\n",
    "    images.append(imageio.imread(file))\n",
    "    #print file\n",
    "\n",
    "#kargs = {'duration': 2}\n",
    "#imageio.mimsave(r'sc2.gif', images, **kargs)\n",
    "imageio.mimsave(r'scenery_1.gif', images)"
   ]
  },
  {
   "cell_type": "code",
   "execution_count": null,
   "metadata": {
    "collapsed": true
   },
   "outputs": [],
   "source": []
  }
 ],
 "metadata": {
  "kernelspec": {
   "display_name": "Python 2",
   "language": "python",
   "name": "python2"
  },
  "language_info": {
   "codemirror_mode": {
    "name": "ipython",
    "version": 2
   },
   "file_extension": ".py",
   "mimetype": "text/x-python",
   "name": "python",
   "nbconvert_exporter": "python",
   "pygments_lexer": "ipython2",
   "version": "2.7.14"
  }
 },
 "nbformat": 4,
 "nbformat_minor": 2
}

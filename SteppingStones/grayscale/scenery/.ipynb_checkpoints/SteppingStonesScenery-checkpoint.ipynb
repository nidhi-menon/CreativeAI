{
 "cells": [
  {
   "cell_type": "code",
   "execution_count": 1,
   "metadata": {
    "collapsed": true
   },
   "outputs": [],
   "source": [
    "from PIL import Image\n",
    "\n",
    "import numpy as np\n",
    "import random\n",
    "import imageio\n",
    "import glob"
   ]
  },
  {
   "cell_type": "code",
   "execution_count": 2,
   "metadata": {
    "collapsed": true
   },
   "outputs": [],
   "source": [
    "img = Image.open(\"sc1.jpg\")\n",
    "#img.show()"
   ]
  },
  {
   "cell_type": "code",
   "execution_count": 3,
   "metadata": {
    "collapsed": true
   },
   "outputs": [],
   "source": [
    "width, height = img.size"
   ]
  },
  {
   "cell_type": "code",
   "execution_count": 4,
   "metadata": {
    "collapsed": true
   },
   "outputs": [],
   "source": [
    "img_arr = np.asarray(img)\n",
    "#print(img_arr)\n",
    "\n",
    "a = np.array(img_arr)\n",
    "#print(a)"
   ]
  },
  {
   "cell_type": "code",
   "execution_count": null,
   "metadata": {
    "collapsed": true
   },
   "outputs": [],
   "source": [
    "prob = 0.5\n",
    "\n",
    "max_limit = 500\n",
    "limit = 1\n",
    "\n",
    "while limit < max_limit:\n",
    "    \n",
    "    limit = limit + 1\n",
    "    \n",
    "    for i in range(0, height):\n",
    "        for j in range(0, width):\n",
    "            \n",
    "            rand = random.uniform(0.0, 1.0)\n",
    "            \n",
    "            #alter pixel if random value less than probability\n",
    "            if rand < prob:\n",
    "                \n",
    "                dir = random.randint(1, 5)\n",
    "                \n",
    "                #east\n",
    "                if dir == 1:\n",
    "                    if j < width-1:\n",
    "                        a[i, j] = a[i, j+1]\n",
    "                \n",
    "                #west\n",
    "                if dir == 2:\n",
    "                    if j > 0:\n",
    "                        a[i, j] = a[i, j-1]\n",
    "                        \n",
    "                #north\n",
    "                if dir == 3:\n",
    "                    if i > 0:\n",
    "                        a[i, j] = a[i-1, j]\n",
    "                        \n",
    "                #south\n",
    "                if dir == 4:\n",
    "                    if i < height-1:\n",
    "                        a[i, j] = a[i+1, j]\n",
    "                    \n",
    "    if limit % 10 == 0:\n",
    "        im_temp = Image.fromarray(a)\n",
    "        im_temp.save('images_sc1/sc1.{}.png'.format(limit))"
   ]
  },
  {
   "cell_type": "code",
   "execution_count": 20,
   "metadata": {
    "collapsed": true
   },
   "outputs": [
    {
     "name": "stdout",
     "output_type": "stream",
     "text": [
      "rose.10.png\n",
      "rose.20.png\n",
      "rose.30.png\n",
      "rose.40.png\n",
      "rose.50.png\n",
      "rose.60.png\n",
      "rose.70.png\n",
      "rose.80.png\n",
      "rose.90.png\n",
      "rose.100.png\n",
      "rose.110.png\n",
      "rose.120.png\n",
      "rose.130.png\n",
      "rose.140.png\n",
      "rose.150.png\n",
      "rose.160.png\n",
      "rose.170.png\n",
      "rose.180.png\n",
      "rose.190.png\n",
      "rose.200.png\n",
      "rose.210.png\n",
      "rose.220.png\n",
      "rose.230.png\n",
      "rose.240.png\n",
      "rose.250.png\n",
      "rose.260.png\n",
      "rose.270.png\n",
      "rose.280.png\n",
      "rose.290.png\n",
      "rose.300.png\n",
      "rose.310.png\n",
      "rose.320.png\n",
      "rose.330.png\n",
      "rose.340.png\n",
      "rose.350.png\n",
      "rose.360.png\n",
      "rose.370.png\n",
      "rose.380.png\n",
      "rose.390.png\n",
      "rose.400.png\n",
      "rose.410.png\n",
      "rose.420.png\n",
      "rose.430.png\n",
      "rose.440.png\n",
      "rose.450.png\n",
      "rose.460.png\n",
      "rose.470.png\n",
      "rose.480.png\n",
      "rose.490.png\n",
      "rose.500.png\n",
      "rose.500.png\n",
      "rose.490.png\n",
      "rose.480.png\n",
      "rose.470.png\n",
      "rose.460.png\n",
      "rose.450.png\n",
      "rose.440.png\n",
      "rose.430.png\n",
      "rose.420.png\n",
      "rose.410.png\n",
      "rose.400.png\n",
      "rose.390.png\n",
      "rose.380.png\n",
      "rose.370.png\n",
      "rose.360.png\n",
      "rose.350.png\n",
      "rose.340.png\n",
      "rose.330.png\n",
      "rose.320.png\n",
      "rose.310.png\n",
      "rose.300.png\n",
      "rose.290.png\n",
      "rose.280.png\n",
      "rose.270.png\n",
      "rose.260.png\n",
      "rose.250.png\n",
      "rose.240.png\n",
      "rose.230.png\n",
      "rose.220.png\n",
      "rose.210.png\n",
      "rose.200.png\n",
      "rose.190.png\n",
      "rose.180.png\n",
      "rose.170.png\n",
      "rose.160.png\n",
      "rose.150.png\n",
      "rose.140.png\n",
      "rose.130.png\n",
      "rose.120.png\n",
      "rose.110.png\n",
      "rose.100.png\n",
      "rose.90.png\n",
      "rose.80.png\n",
      "rose.70.png\n",
      "rose.60.png\n",
      "rose.50.png\n",
      "rose.40.png\n",
      "rose.30.png\n",
      "rose.20.png\n",
      "rose.10.png\n"
     ]
    }
   ],
   "source": [
    "files = glob.glob('images_sc1/*.png')\n",
    "#files\n",
    "\n",
    "sorted_files = sorted(files, key=lambda x: int(x.split('.')[1]))\n",
    "#sorted_files\n",
    "\n",
    "\n",
    "images = []\n",
    "for file in sorted_files:\n",
    "    # imageio.imread(file) creates a numpy matrix array\n",
    "    images.append(imageio.imread(file))\n",
    "    #print file\n",
    "\n",
    "desc_files = sorted(files, key=lambda x: int(x.split('.')[1]), reverse=True)\n",
    "#desc_files\n",
    "\n",
    "for file in desc_files:\n",
    "    # imageio.imread(file) creates a numpy matrix array\n",
    "    images.append(imageio.imread(file))\n",
    "    print file\n",
    "\n",
    "#kargs = {'duration': 2}\n",
    "#imageio.mimsave(r'sc1.gif', images, **kargs)\n",
    "imageio.mimsave(r'scenery1.gif', images)"
   ]
  }
 ],
 "metadata": {
  "kernelspec": {
   "display_name": "Python 2",
   "language": "python",
   "name": "python2"
  },
  "language_info": {
   "codemirror_mode": {
    "name": "ipython",
    "version": 2
   },
   "file_extension": ".py",
   "mimetype": "text/x-python",
   "name": "python",
   "nbconvert_exporter": "python",
   "pygments_lexer": "ipython2",
   "version": "2.7.14"
  }
 },
 "nbformat": 4,
 "nbformat_minor": 2
}
